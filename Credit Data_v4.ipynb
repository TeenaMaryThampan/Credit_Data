{
 "cells": [
  {
   "cell_type": "markdown",
   "metadata": {},
   "source": [
    "### Objective:\n",
    "\n",
    "A financial institution would like to grow the client population by improving their targeting strategy.   \n",
    "\n",
    "Third party credit data is used for the same. The dataset contains 389 features with 39508 datapoints."
   ]
  },
  {
   "cell_type": "markdown",
   "metadata": {},
   "source": [
    "**Loading Dataset**"
   ]
  },
  {
   "cell_type": "code",
   "execution_count": 1,
   "metadata": {},
   "outputs": [
    {
     "name": "stderr",
     "output_type": "stream",
     "text": [
      "C:\\Users\\teena\\AppData\\Local\\Continuum\\anaconda3\\lib\\site-packages\\IPython\\core\\interactiveshell.py:3058: DtypeWarning: Columns (328,336) have mixed types.Specify dtype option on import or set low_memory=False.\n",
      "  interactivity=interactivity, compiler=compiler, result=result)\n"
     ]
    },
    {
     "data": {
      "text/html": [
       "<div>\n",
       "<style scoped>\n",
       "    .dataframe tbody tr th:only-of-type {\n",
       "        vertical-align: middle;\n",
       "    }\n",
       "\n",
       "    .dataframe tbody tr th {\n",
       "        vertical-align: top;\n",
       "    }\n",
       "\n",
       "    .dataframe thead th {\n",
       "        text-align: right;\n",
       "    }\n",
       "</style>\n",
       "<table border=\"1\" class=\"dataframe\">\n",
       "  <thead>\n",
       "    <tr style=\"text-align: right;\">\n",
       "      <th></th>\n",
       "      <th>ActIntAmusementParkVisit</th>\n",
       "      <th>ActIntZooVisit</th>\n",
       "      <th>ActIntWineLovers</th>\n",
       "      <th>ActIntDoityourselfers</th>\n",
       "      <th>ActIntHomeImproveSpenders</th>\n",
       "      <th>ActIntHuntingEnthusiasts</th>\n",
       "      <th>BuyerLuxuryStoreShop</th>\n",
       "      <th>LifestyleMedicalPolicy</th>\n",
       "      <th>ActIntDigitalMagNewspaper</th>\n",
       "      <th>ActIntAttendsEducationProg</th>\n",
       "      <th>...</th>\n",
       "      <th>MortgageLoanType</th>\n",
       "      <th>ESTCURRMTHLYMORTGPAYMTRNG</th>\n",
       "      <th>MosaicGlobalZip4</th>\n",
       "      <th>PresenceOfCreditCard</th>\n",
       "      <th>InterestInCrafts</th>\n",
       "      <th>InterestInGourmetCooking</th>\n",
       "      <th>ComputersPeripherals</th>\n",
       "      <th>HiTechOwner</th>\n",
       "      <th>InternetOnlineSubscriber</th>\n",
       "      <th>Flag</th>\n",
       "    </tr>\n",
       "  </thead>\n",
       "  <tbody>\n",
       "    <tr>\n",
       "      <th>0</th>\n",
       "      <td>26.0</td>\n",
       "      <td>68.0</td>\n",
       "      <td>65.0</td>\n",
       "      <td>37.0</td>\n",
       "      <td>53.0</td>\n",
       "      <td>41.0</td>\n",
       "      <td>40.0</td>\n",
       "      <td>69.0</td>\n",
       "      <td>78.0</td>\n",
       "      <td>67.0</td>\n",
       "      <td>...</td>\n",
       "      <td>NaN</td>\n",
       "      <td>0U</td>\n",
       "      <td>E</td>\n",
       "      <td>U</td>\n",
       "      <td>Y</td>\n",
       "      <td>Y</td>\n",
       "      <td>Y</td>\n",
       "      <td>Y</td>\n",
       "      <td>Y</td>\n",
       "      <td>0</td>\n",
       "    </tr>\n",
       "    <tr>\n",
       "      <th>1</th>\n",
       "      <td>47.0</td>\n",
       "      <td>46.0</td>\n",
       "      <td>2.0</td>\n",
       "      <td>31.0</td>\n",
       "      <td>9.0</td>\n",
       "      <td>68.0</td>\n",
       "      <td>5.0</td>\n",
       "      <td>14.0</td>\n",
       "      <td>48.0</td>\n",
       "      <td>10.0</td>\n",
       "      <td>...</td>\n",
       "      <td>C</td>\n",
       "      <td>1M</td>\n",
       "      <td>B</td>\n",
       "      <td>Y</td>\n",
       "      <td>U</td>\n",
       "      <td>U</td>\n",
       "      <td>Y</td>\n",
       "      <td>Y</td>\n",
       "      <td>Y</td>\n",
       "      <td>0</td>\n",
       "    </tr>\n",
       "  </tbody>\n",
       "</table>\n",
       "<p>2 rows × 389 columns</p>\n",
       "</div>"
      ],
      "text/plain": [
       "   ActIntAmusementParkVisit  ActIntZooVisit  ActIntWineLovers  \\\n",
       "0                      26.0            68.0              65.0   \n",
       "1                      47.0            46.0               2.0   \n",
       "\n",
       "   ActIntDoityourselfers  ActIntHomeImproveSpenders  ActIntHuntingEnthusiasts  \\\n",
       "0                   37.0                       53.0                      41.0   \n",
       "1                   31.0                        9.0                      68.0   \n",
       "\n",
       "   BuyerLuxuryStoreShop  LifestyleMedicalPolicy  ActIntDigitalMagNewspaper  \\\n",
       "0                  40.0                    69.0                       78.0   \n",
       "1                   5.0                    14.0                       48.0   \n",
       "\n",
       "   ActIntAttendsEducationProg  ...  MortgageLoanType  \\\n",
       "0                        67.0  ...               NaN   \n",
       "1                        10.0  ...                 C   \n",
       "\n",
       "   ESTCURRMTHLYMORTGPAYMTRNG  MosaicGlobalZip4  PresenceOfCreditCard  \\\n",
       "0                         0U                 E                     U   \n",
       "1                         1M                 B                     Y   \n",
       "\n",
       "   InterestInCrafts  InterestInGourmetCooking  ComputersPeripherals  \\\n",
       "0                 Y                         Y                     Y   \n",
       "1                 U                         U                     Y   \n",
       "\n",
       "   HiTechOwner  InternetOnlineSubscriber  Flag  \n",
       "0            Y                         Y     0  \n",
       "1            Y                         Y     0  \n",
       "\n",
       "[2 rows x 389 columns]"
      ]
     },
     "execution_count": 1,
     "metadata": {},
     "output_type": "execute_result"
    }
   ],
   "source": [
    "import pandas as pd\n",
    "\n",
    "missing_values = [\"n/a\", \"na\", \"--\", \"\"]\n",
    "data=pd.read_csv(\"Data.csv\",na_values = missing_values)\n",
    "data.head(2)"
   ]
  },
  {
   "cell_type": "markdown",
   "metadata": {},
   "source": [
    "**Importing necessary libraries**"
   ]
  },
  {
   "cell_type": "code",
   "execution_count": 2,
   "metadata": {},
   "outputs": [
    {
     "name": "stderr",
     "output_type": "stream",
     "text": [
      "Using TensorFlow backend.\n"
     ]
    }
   ],
   "source": [
    "import warnings\n",
    "warnings.filterwarnings(\"ignore\",category=DeprecationWarning)\n",
    "import logging\n",
    "logging.captureWarnings(True)\n",
    "import numpy as np\n",
    "from keras.models import Sequential\n",
    "from keras.layers import Dense, Activation, Dropout\n",
    "import keras\n",
    "import tensorflow as tf\n",
    "from sklearn import metrics\n",
    "from sklearn.metrics import precision_score,recall_score, confusion_matrix,plot_roc_curve,roc_curve\n",
    "import matplotlib.pyplot as plt \n",
    "from sklearn.preprocessing import OneHotEncoder, LabelEncoder\n",
    "from sklearn.preprocessing import StandardScaler\n",
    "from sklearn.model_selection import train_test_split\n",
    "from sklearn.linear_model import Lasso, LogisticRegression\n",
    "from sklearn.feature_selection import SelectFromModel\n",
    "from imblearn.over_sampling import RandomOverSampler\n",
    "from sklearn.ensemble import RandomForestClassifier\n",
    "from sklearn.feature_selection import SelectKBest, f_classif\n",
    "from collections import Counter\n",
    "import random\n",
    "random.seed(10)"
   ]
  },
  {
   "cell_type": "markdown",
   "metadata": {},
   "source": [
    "- Analysing columns which got warning for mixed data types"
   ]
  },
  {
   "cell_type": "code",
   "execution_count": 3,
   "metadata": {},
   "outputs": [
    {
     "data": {
      "text/plain": [
       "0    1.0\n",
       "1    1.0\n",
       "Name: RuralUrbanCountySizeCode, dtype: object"
      ]
     },
     "execution_count": 3,
     "metadata": {},
     "output_type": "execute_result"
    }
   ],
   "source": [
    "data.iloc[:,328].head(2)"
   ]
  },
  {
   "cell_type": "code",
   "execution_count": 4,
   "metadata": {},
   "outputs": [
    {
     "data": {
      "text/plain": [
       "0    1.0\n",
       "1    1.0\n",
       "Name: RuralUrbanCountySizeCode, dtype: object"
      ]
     },
     "execution_count": 4,
     "metadata": {},
     "output_type": "execute_result"
    }
   ],
   "source": [
    "data.iloc[:,328].head(2)"
   ]
  },
  {
   "cell_type": "markdown",
   "metadata": {},
   "source": [
    "- Checking size of the dataset"
   ]
  },
  {
   "cell_type": "code",
   "execution_count": 5,
   "metadata": {},
   "outputs": [
    {
     "data": {
      "text/plain": [
       "(39508, 389)"
      ]
     },
     "execution_count": 5,
     "metadata": {},
     "output_type": "execute_result"
    }
   ],
   "source": [
    "data.shape"
   ]
  },
  {
   "cell_type": "markdown",
   "metadata": {},
   "source": [
    "- Checking if there are any columns with all NA values"
   ]
  },
  {
   "cell_type": "code",
   "execution_count": 6,
   "metadata": {},
   "outputs": [
    {
     "data": {
      "text/plain": [
       "Index([], dtype='object')"
      ]
     },
     "execution_count": 6,
     "metadata": {},
     "output_type": "execute_result"
    }
   ],
   "source": [
    "data.columns[data.isna().all()]"
   ]
  },
  {
   "cell_type": "markdown",
   "metadata": {},
   "source": [
    "- Making a copy of the dataset"
   ]
  },
  {
   "cell_type": "code",
   "execution_count": 7,
   "metadata": {},
   "outputs": [],
   "source": [
    "df=data.copy()"
   ]
  },
  {
   "cell_type": "markdown",
   "metadata": {},
   "source": [
    "### Data Preprocessing"
   ]
  },
  {
   "cell_type": "markdown",
   "metadata": {},
   "source": [
    "**Dropping columns which have upto 20% of NA values**"
   ]
  },
  {
   "cell_type": "code",
   "execution_count": 8,
   "metadata": {},
   "outputs": [],
   "source": [
    "data=data.dropna(thresh=len(data)*0.2, axis=1)"
   ]
  },
  {
   "cell_type": "markdown",
   "metadata": {},
   "source": [
    "**Splitting the data into target variable and predictor variables**"
   ]
  },
  {
   "cell_type": "code",
   "execution_count": 9,
   "metadata": {},
   "outputs": [
    {
     "data": {
      "text/plain": [
       "(39508, 380)"
      ]
     },
     "execution_count": 9,
     "metadata": {},
     "output_type": "execute_result"
    }
   ],
   "source": [
    "target=data[[\"Flag\"]]\n",
    "data=data.drop([\"Flag\"], axis=1)\n",
    "data.shape"
   ]
  },
  {
   "cell_type": "markdown",
   "metadata": {},
   "source": [
    "- **Splitting the data into numerical and categorical data**\n",
    "- **Imputing missing data**\n",
    "    - Categorical data is imputed with mode\n",
    "    - Numerical data is imputed with mean"
   ]
  },
  {
   "cell_type": "code",
   "execution_count": 10,
   "metadata": {},
   "outputs": [],
   "source": [
    "categorical=data.select_dtypes(include=['object', 'category'])\n",
    "numerical=data.select_dtypes(include=['number'])\n",
    "\n",
    "for column in categorical.columns:\n",
    "    categorical[column].fillna(categorical[column].mode()[0], inplace=True)\n",
    "numerical=numerical.fillna(numerical.mean())"
   ]
  },
  {
   "cell_type": "markdown",
   "metadata": {},
   "source": [
    "**Scaling and Encoding**\n",
    "**Why Scaling**\n",
    "- Numerical data is scaled using StandardScaler function\n",
    "- StandardScaler\n",
    "- Categorical data is label-encoded first and then onehot-encoded\n"
   ]
  },
  {
   "cell_type": "code",
   "execution_count": 11,
   "metadata": {},
   "outputs": [],
   "source": [
    "scaler=StandardScaler()\n",
    "\n",
    "numerical_names=numerical.columns\n",
    "numerical=scaler.fit_transform(numerical)\n",
    "numerical=pd.DataFrame(numerical, columns=numerical_names)\n",
    "\n",
    "categorical=categorical.astype(str)\n",
    "\n",
    "labelencoder = LabelEncoder()\n",
    "categorical=categorical.apply(labelencoder.fit_transform)\n",
    "\n",
    "onehotencoder = OneHotEncoder() \n",
    "categorical_values=onehotencoder.fit_transform(categorical)\n",
    "categorical_names=onehotencoder.get_feature_names(input_features=categorical.columns)\n",
    "\n",
    "categorical_values=pd.DataFrame(categorical_values.todense())\n",
    "categorical_values.columns=categorical_names\n",
    "categorical=categorical_values\n"
   ]
  },
  {
   "cell_type": "markdown",
   "metadata": {},
   "source": [
    "- Merging the categorical data and numerical data to single data frame"
   ]
  },
  {
   "cell_type": "code",
   "execution_count": 12,
   "metadata": {},
   "outputs": [
    {
     "data": {
      "text/plain": [
       "(39508, 908)"
      ]
     },
     "execution_count": 12,
     "metadata": {},
     "output_type": "execute_result"
    }
   ],
   "source": [
    "clean_data=pd.concat([numerical,categorical], axis=1)\n",
    "clean_data.head(2)\n",
    "clean_data.shape"
   ]
  },
  {
   "cell_type": "markdown",
   "metadata": {},
   "source": [
    "**Splitting the data into train and test data**"
   ]
  },
  {
   "cell_type": "code",
   "execution_count": 13,
   "metadata": {},
   "outputs": [],
   "source": [
    "X_train, X_test, y_train,y_test = train_test_split(clean_data,target, test_size=0.3, random_state=42)"
   ]
  },
  {
   "cell_type": "code",
   "execution_count": 14,
   "metadata": {},
   "outputs": [
    {
     "name": "stdout",
     "output_type": "stream",
     "text": [
      "(39508, 908)\n"
     ]
    }
   ],
   "source": [
    "print(clean_data.shape)"
   ]
  },
  {
   "cell_type": "code",
   "execution_count": 15,
   "metadata": {
    "scrolled": false
   },
   "outputs": [
    {
     "name": "stdout",
     "output_type": "stream",
     "text": [
      "(39508, 1)\n"
     ]
    }
   ],
   "source": [
    "print(target.shape)"
   ]
  },
  {
   "cell_type": "code",
   "execution_count": 16,
   "metadata": {},
   "outputs": [
    {
     "name": "stdout",
     "output_type": "stream",
     "text": [
      "Flag\n",
      "0       10597\n",
      "1        1256\n",
      "dtype: int64\n"
     ]
    }
   ],
   "source": [
    "print(y_test.value_counts())"
   ]
  },
  {
   "cell_type": "markdown",
   "metadata": {},
   "source": [
    "### Defining Model and Metrics to evaluate\n",
    "- For the classification problem in hand a **Sequential** model is used.\n",
    "    - Activation functions used are *Rectified Linear Unit(ReLU)* on first two layers and *Sigmoid* on the output layer \n",
    "    - The activation function is responsible for transforming the summed weighted input from the node into the activation of    the node or output for that input.\n",
    "    - The model is compiled specifying *binary_crossentropy*  as loss function and *rmsprop* as the optimizer.\n",
    "    - Loss function is used to evaluate a set of weights and the optimizer is used to search through different weights for the network and report any optional metrics to be collected during training.\n",
    "    - Early stopping is used to stop the training once the model performanace stops improving.\n",
    "    - Validation accuracy is monitored in the early stopping to stop training. \n",
    "    - Model is evalauated on test data.\n",
    "- **Precision** and **Recall** are used to evaluate the performance of the model.\n",
    "    - Precision is the ratio between the correct predictions and the total predictions of that class.\n",
    "    - Recall is the ratio of the correct predictions and the total items in that class.\n",
    "- **Confusion Matrix** is also shown to check raw number of classification of every test sample.\n",
    "- **AUC-ROC** is used to visualize the performance of the classification problem.\n",
    "    - Receiver Operating Characteristic curve, is a graphical plot that illustrates the diagnostic ability of a binary classifier system.\n",
    "    - It is created by plotting the True Positive Rate against False Positive Rate.\n",
    "    - Curve closer to top-left indicates a good classifier that separates both classes well. A curve that is at a 45-degree is considered to have no prediction capacity.  \n",
    "    - AUC, Area Under Curve, represents the degree of separabaility. Higher the AUC, the better the model is predicting 0s as 0s and 1s as 1s.\n"
   ]
  },
  {
   "cell_type": "code",
   "execution_count": 17,
   "metadata": {},
   "outputs": [],
   "source": [
    "def roc_curve_(y_true, preds):\n",
    "    fpr, tpr, threshold = metrics.roc_curve(y_true, preds)\n",
    "    roc_auc = metrics.auc(fpr, tpr)\n",
    "    fig=plt.plot(fpr, tpr, 'b', label = 'AUC = %0.2f' % roc_auc)\n",
    "    plt.title('Receiver Operating Characteristic')\n",
    "    \n",
    "    plt.legend(loc = 'lower right')\n",
    "    plt.plot([0, 1], [0, 1],'r--')\n",
    "    plt.xlim([0, 1])\n",
    "    plt.ylim([0, 1])\n",
    "    plt.ylabel('True Positive Rate')\n",
    "    plt.xlabel('False Positive Rate')\n",
    "    return plt\n",
    "    \n",
    "\n",
    "def seq_model(input_data, in_dim, train_y, test_x, test_y, n, m, p):\n",
    "    model = Sequential()\n",
    "    model.add(Dense(n,activation='relu',input_dim=in_dim))\n",
    "    model.add(Dropout(0.2))\n",
    "    model.add(Dense(m,activation='relu'))\n",
    "    model.add(Dropout(0.2))\n",
    "    model.add(Dense(1,activation='sigmoid'))\n",
    "    #specificity=keras.metrics.SpecificityAtSensitivity(0.5,num_thresholds=3)\n",
    "    #model.compile(loss='binary_crossentropy',optimizer='rmsprop', metrics=[\"accuracy\",specificity])\n",
    "    early_stopping = keras.callbacks.EarlyStopping(monitor='val_accuracy', verbose=1, patience=p,mode='max',restore_best_weights=True)\n",
    "    model.compile(loss='binary_crossentropy',optimizer='rmsprop', metrics=[\"accuracy\"])\n",
    "    hist=model.fit(input_data, train_y,epochs=100, batch_size=256, callbacks = [early_stopping], verbose=0,validation_split=0.20) #,\n",
    "    score=model.evaluate(test_x,test_y,batch_size=256)\n",
    "    accuracy=score[1]\n",
    "    pred= model.predict(test_x)\n",
    "    y_pred = np.where(pred < 0.5,0,1)\n",
    "    #print(\"y_pred\", y_pred.value_count())\n",
    "    #print(test_y.value_count())\n",
    "    Con_matrix= confusion_matrix(test_y, y_pred)\n",
    "    #Con_matrix.columns=[1,0]\n",
    "    precision=precision_score(test_y, y_pred, average=\"binary\")\n",
    "    recall=recall_score(test_y, y_pred, average=\"binary\")\n",
    "    #fig=metrics.plot_roc_curve(hist, X_test, y_test) \n",
    "    plot_=roc_curve_(y_test,y_pred)\n",
    "    print(\"\\n Accuracy of the model is:\", accuracy, \"\\n\")\n",
    "    print(\"Precision of the model is:\", precision, \"\\n\")\n",
    "    print(\"Recall of the model is:\", recall, \"\\n\")\n",
    "    print(\"Confusion Matrix of the model is: \",\"\\n\", Con_matrix ,\"\\n\")\n",
    "    return \n",
    "    "
   ]
  },
  {
   "cell_type": "markdown",
   "metadata": {},
   "source": [
    "**Base Model and its metrics**"
   ]
  },
  {
   "cell_type": "code",
   "execution_count": 18,
   "metadata": {
    "scrolled": false
   },
   "outputs": [
    {
     "name": "stdout",
     "output_type": "stream",
     "text": [
      "Restoring model weights from the end of the best epoch\n",
      "Epoch 00033: early stopping\n",
      "11853/11853 [==============================] - 0s 23us/step\n",
      "\n",
      " Accuracy of the model is: 0.8938665390014648 \n",
      "\n",
      "Precision of the model is: 0.4868421052631579 \n",
      "\n",
      "Recall of the model is: 0.02945859872611465 \n",
      "\n",
      "Confusion Matrix of the model is:  \n",
      " [[10558    39]\n",
      " [ 1219    37]] \n",
      "\n"
     ]
    },
    {
     "data": {
      "image/png": "[encoded data removed]",
      "text/plain": [
       "<Figure size 432x288 with 1 Axes>"
      ]
     },
     "metadata": {
      "needs_background": "light"
     },
     "output_type": "display_data"
    }
   ],
   "source": [
    "base_model=seq_model(X_train,X_train.shape[1],y_train, X_test,y_test,256, 256, 30)"
   ]
  },
  {
   "cell_type": "markdown",
   "metadata": {},
   "source": [
    "**Result of the base model:**\n",
    "- The base model does not have any classification capability.\n",
    "- AUC is 0.51 and Recall is 0.02 which is extremely less."
   ]
  },
  {
   "cell_type": "markdown",
   "metadata": {},
   "source": [
    "### Feature Selection"
   ]
  },
  {
   "cell_type": "markdown",
   "metadata": {},
   "source": [
    "- Feature selection is used to find and select features that contribute most to the target variable. \n",
    "- In all feature selection procedures, it is a good practice to select the features by examining only the training set. This is to avoid overfitting.\n",
    "- Feature selection done is on the train set initially and then changes are transfered to the test set later.\n",
    "- **selectFromModel**object from sklearn library is used to automatically select the features.\n",
    "- In the first step, **Logistic Regression** model with ***Lasso regularization*** is used to select features. Features for which coefficients are non-zero are selected as they are important. \n",
    "- **Random Forest** is used in the second step to extract important features. Since each tree is built over random extraction of observations and features, trees are decorrelated and less prone to overfitting.\n",
    "- Finally, **SelectKBest** is used. It uses ***f_classif*** function is used to score features and then removes all but \"k\" highest scoring features."
   ]
  },
  {
   "cell_type": "code",
   "execution_count": 19,
   "metadata": {},
   "outputs": [
    {
     "name": "stdout",
     "output_type": "stream",
     "text": [
      "The number of slected features after step one is: 762\n"
     ]
    },
    {
     "data": {
      "text/html": [
       "<div>\n",
       "<style scoped>\n",
       "    .dataframe tbody tr th:only-of-type {\n",
       "        vertical-align: middle;\n",
       "    }\n",
       "\n",
       "    .dataframe tbody tr th {\n",
       "        vertical-align: top;\n",
       "    }\n",
       "\n",
       "    .dataframe thead th {\n",
       "        text-align: right;\n",
       "    }\n",
       "</style>\n",
       "<table border=\"1\" class=\"dataframe\">\n",
       "  <thead>\n",
       "    <tr style=\"text-align: right;\">\n",
       "      <th></th>\n",
       "      <th>ActIntAmusementParkVisit</th>\n",
       "      <th>ActIntZooVisit</th>\n",
       "      <th>ActIntWineLovers</th>\n",
       "      <th>ActIntDoityourselfers</th>\n",
       "      <th>ActIntHomeImproveSpenders</th>\n",
       "      <th>ActIntHuntingEnthusiasts</th>\n",
       "      <th>BuyerLuxuryStoreShop</th>\n",
       "      <th>LifestyleMedicalPolicy</th>\n",
       "      <th>ActIntDigitalMagNewspaper</th>\n",
       "      <th>ActIntAttendsEducationProg</th>\n",
       "      <th>...</th>\n",
       "      <th>InterestInCrafts_0</th>\n",
       "      <th>InterestInCrafts_1</th>\n",
       "      <th>InterestInGourmetCooking_0</th>\n",
       "      <th>InterestInGourmetCooking_1</th>\n",
       "      <th>ComputersPeripherals_0</th>\n",
       "      <th>ComputersPeripherals_1</th>\n",
       "      <th>HiTechOwner_0</th>\n",
       "      <th>HiTechOwner_1</th>\n",
       "      <th>InternetOnlineSubscriber_0</th>\n",
       "      <th>InternetOnlineSubscriber_1</th>\n",
       "    </tr>\n",
       "  </thead>\n",
       "  <tbody>\n",
       "    <tr>\n",
       "      <th>0</th>\n",
       "      <td>0.401396</td>\n",
       "      <td>0.603799</td>\n",
       "      <td>1.669904</td>\n",
       "      <td>-0.921474</td>\n",
       "      <td>0.333477</td>\n",
       "      <td>-0.972411</td>\n",
       "      <td>0.516278</td>\n",
       "      <td>-0.029728</td>\n",
       "      <td>0.471398</td>\n",
       "      <td>-1.539914</td>\n",
       "      <td>...</td>\n",
       "      <td>1.0</td>\n",
       "      <td>0.0</td>\n",
       "      <td>1.0</td>\n",
       "      <td>0.0</td>\n",
       "      <td>1.0</td>\n",
       "      <td>0.0</td>\n",
       "      <td>1.0</td>\n",
       "      <td>0.0</td>\n",
       "      <td>1.0</td>\n",
       "      <td>0.0</td>\n",
       "    </tr>\n",
       "    <tr>\n",
       "      <th>1</th>\n",
       "      <td>2.061772</td>\n",
       "      <td>0.875516</td>\n",
       "      <td>0.285593</td>\n",
       "      <td>-0.824674</td>\n",
       "      <td>-1.450020</td>\n",
       "      <td>-1.386777</td>\n",
       "      <td>1.480922</td>\n",
       "      <td>-0.902537</td>\n",
       "      <td>1.113907</td>\n",
       "      <td>0.984746</td>\n",
       "      <td>...</td>\n",
       "      <td>1.0</td>\n",
       "      <td>0.0</td>\n",
       "      <td>1.0</td>\n",
       "      <td>0.0</td>\n",
       "      <td>1.0</td>\n",
       "      <td>0.0</td>\n",
       "      <td>1.0</td>\n",
       "      <td>0.0</td>\n",
       "      <td>1.0</td>\n",
       "      <td>0.0</td>\n",
       "    </tr>\n",
       "  </tbody>\n",
       "</table>\n",
       "<p>2 rows × 762 columns</p>\n",
       "</div>"
      ],
      "text/plain": [
       "   ActIntAmusementParkVisit  ActIntZooVisit  ActIntWineLovers  \\\n",
       "0                  0.401396        0.603799          1.669904   \n",
       "1                  2.061772        0.875516          0.285593   \n",
       "\n",
       "   ActIntDoityourselfers  ActIntHomeImproveSpenders  ActIntHuntingEnthusiasts  \\\n",
       "0              -0.921474                   0.333477                 -0.972411   \n",
       "1              -0.824674                  -1.450020                 -1.386777   \n",
       "\n",
       "   BuyerLuxuryStoreShop  LifestyleMedicalPolicy  ActIntDigitalMagNewspaper  \\\n",
       "0              0.516278               -0.029728                   0.471398   \n",
       "1              1.480922               -0.902537                   1.113907   \n",
       "\n",
       "   ActIntAttendsEducationProg  ...  InterestInCrafts_0  InterestInCrafts_1  \\\n",
       "0                   -1.539914  ...                 1.0                 0.0   \n",
       "1                    0.984746  ...                 1.0                 0.0   \n",
       "\n",
       "   InterestInGourmetCooking_0  InterestInGourmetCooking_1  \\\n",
       "0                         1.0                         0.0   \n",
       "1                         1.0                         0.0   \n",
       "\n",
       "   ComputersPeripherals_0  ComputersPeripherals_1  HiTechOwner_0  \\\n",
       "0                     1.0                     0.0            1.0   \n",
       "1                     1.0                     0.0            1.0   \n",
       "\n",
       "   HiTechOwner_1  InternetOnlineSubscriber_0  InternetOnlineSubscriber_1  \n",
       "0            0.0                         1.0                         0.0  \n",
       "1            0.0                         1.0                         0.0  \n",
       "\n",
       "[2 rows x 762 columns]"
      ]
     },
     "execution_count": 19,
     "metadata": {},
     "output_type": "execute_result"
    }
   ],
   "source": [
    "selected_LR = SelectFromModel(LogisticRegression(C=1, penalty='l1', solver='saga'))\n",
    "\n",
    "selected_data_LR=selected_LR.fit_transform((X_train), y_train)\n",
    "selected_feat_LR = X_train.columns[(selected_LR.get_support())]\n",
    "\n",
    "selected_data_LR=pd.DataFrame(selected_data_LR)\n",
    "selected_data_LR.columns=selected_feat_LR\n",
    "\n",
    "print(\"The number of slected features after step one is:\", selected_data_LR.shape[1])\n",
    "selected_data_LR.head(2)"
   ]
  },
  {
   "cell_type": "code",
   "execution_count": 20,
   "metadata": {},
   "outputs": [
    {
     "name": "stdout",
     "output_type": "stream",
     "text": [
      "The number of slected features after step two is: 298\n"
     ]
    },
    {
     "data": {
      "text/html": [
       "<div>\n",
       "<style scoped>\n",
       "    .dataframe tbody tr th:only-of-type {\n",
       "        vertical-align: middle;\n",
       "    }\n",
       "\n",
       "    .dataframe tbody tr th {\n",
       "        vertical-align: top;\n",
       "    }\n",
       "\n",
       "    .dataframe thead th {\n",
       "        text-align: right;\n",
       "    }\n",
       "</style>\n",
       "<table border=\"1\" class=\"dataframe\">\n",
       "  <thead>\n",
       "    <tr style=\"text-align: right;\">\n",
       "      <th></th>\n",
       "      <th>ActIntAmusementParkVisit</th>\n",
       "      <th>ActIntZooVisit</th>\n",
       "      <th>ActIntWineLovers</th>\n",
       "      <th>ActIntDoityourselfers</th>\n",
       "      <th>ActIntHomeImproveSpenders</th>\n",
       "      <th>ActIntHuntingEnthusiasts</th>\n",
       "      <th>BuyerLuxuryStoreShop</th>\n",
       "      <th>LifestyleMedicalPolicy</th>\n",
       "      <th>ActIntDigitalMagNewspaper</th>\n",
       "      <th>ActIntAttendsEducationProg</th>\n",
       "      <th>...</th>\n",
       "      <th>ForeignvsDomestic</th>\n",
       "      <th>MorevsLessExpensive</th>\n",
       "      <th>LuxuryvsMidPriced</th>\n",
       "      <th>NewvsUsed</th>\n",
       "      <th>MidRangeCarvsTrucks</th>\n",
       "      <th>TimeZone</th>\n",
       "      <th>RuralUrbanCountySizeCode_0</th>\n",
       "      <th>RuralUrbanCountySizeCode_1</th>\n",
       "      <th>I1DeceasedIndicator_0</th>\n",
       "      <th>I1DeceasedIndicator_1</th>\n",
       "    </tr>\n",
       "  </thead>\n",
       "  <tbody>\n",
       "    <tr>\n",
       "      <th>0</th>\n",
       "      <td>0.401396</td>\n",
       "      <td>0.603799</td>\n",
       "      <td>1.669904</td>\n",
       "      <td>-0.921474</td>\n",
       "      <td>0.333477</td>\n",
       "      <td>-0.972411</td>\n",
       "      <td>0.516278</td>\n",
       "      <td>-0.029728</td>\n",
       "      <td>0.471398</td>\n",
       "      <td>-1.539914</td>\n",
       "      <td>...</td>\n",
       "      <td>-0.536958</td>\n",
       "      <td>-0.496667</td>\n",
       "      <td>1.814455</td>\n",
       "      <td>0.247622</td>\n",
       "      <td>-0.766493</td>\n",
       "      <td>-0.416040</td>\n",
       "      <td>0.0</td>\n",
       "      <td>1.0</td>\n",
       "      <td>0.0</td>\n",
       "      <td>1.0</td>\n",
       "    </tr>\n",
       "    <tr>\n",
       "      <th>1</th>\n",
       "      <td>2.061772</td>\n",
       "      <td>0.875516</td>\n",
       "      <td>0.285593</td>\n",
       "      <td>-0.824674</td>\n",
       "      <td>-1.450020</td>\n",
       "      <td>-1.386777</td>\n",
       "      <td>1.480922</td>\n",
       "      <td>-0.902537</td>\n",
       "      <td>1.113907</td>\n",
       "      <td>0.984746</td>\n",
       "      <td>...</td>\n",
       "      <td>0.606949</td>\n",
       "      <td>-0.606679</td>\n",
       "      <td>-0.455591</td>\n",
       "      <td>-1.526309</td>\n",
       "      <td>-0.037204</td>\n",
       "      <td>-0.872958</td>\n",
       "      <td>0.0</td>\n",
       "      <td>1.0</td>\n",
       "      <td>0.0</td>\n",
       "      <td>1.0</td>\n",
       "    </tr>\n",
       "  </tbody>\n",
       "</table>\n",
       "<p>2 rows × 298 columns</p>\n",
       "</div>"
      ],
      "text/plain": [
       "   ActIntAmusementParkVisit  ActIntZooVisit  ActIntWineLovers  \\\n",
       "0                  0.401396        0.603799          1.669904   \n",
       "1                  2.061772        0.875516          0.285593   \n",
       "\n",
       "   ActIntDoityourselfers  ActIntHomeImproveSpenders  ActIntHuntingEnthusiasts  \\\n",
       "0              -0.921474                   0.333477                 -0.972411   \n",
       "1              -0.824674                  -1.450020                 -1.386777   \n",
       "\n",
       "   BuyerLuxuryStoreShop  LifestyleMedicalPolicy  ActIntDigitalMagNewspaper  \\\n",
       "0              0.516278               -0.029728                   0.471398   \n",
       "1              1.480922               -0.902537                   1.113907   \n",
       "\n",
       "   ActIntAttendsEducationProg  ...  ForeignvsDomestic  MorevsLessExpensive  \\\n",
       "0                   -1.539914  ...          -0.536958            -0.496667   \n",
       "1                    0.984746  ...           0.606949            -0.606679   \n",
       "\n",
       "   LuxuryvsMidPriced  NewvsUsed  MidRangeCarvsTrucks  TimeZone  \\\n",
       "0           1.814455   0.247622            -0.766493 -0.416040   \n",
       "1          -0.455591  -1.526309            -0.037204 -0.872958   \n",
       "\n",
       "   RuralUrbanCountySizeCode_0  RuralUrbanCountySizeCode_1  \\\n",
       "0                         0.0                         1.0   \n",
       "1                         0.0                         1.0   \n",
       "\n",
       "   I1DeceasedIndicator_0  I1DeceasedIndicator_1  \n",
       "0                    0.0                    1.0  \n",
       "1                    0.0                    1.0  \n",
       "\n",
       "[2 rows x 298 columns]"
      ]
     },
     "execution_count": 20,
     "metadata": {},
     "output_type": "execute_result"
    }
   ],
   "source": [
    "selected_RF = SelectFromModel(RandomForestClassifier(n_estimators = 100))\n",
    "\n",
    "selected_data_RF=selected_RF.fit(X_train[selected_feat_LR], y_train)\n",
    "selected_feat_RF = X_train[selected_feat_LR].columns[(selected_RF.get_support())]\n",
    "\n",
    "selected_data_RF=pd.DataFrame(selected_data_LR[selected_feat_RF])\n",
    "selected_data_RF.columns=selected_feat_RF\n",
    "\n",
    "print(\"The number of slected features after step two is:\", selected_data_RF.shape[1])\n",
    "selected_data_RF.head(2)\n"
   ]
  },
  {
   "cell_type": "code",
   "execution_count": 21,
   "metadata": {},
   "outputs": [
    {
     "name": "stdout",
     "output_type": "stream",
     "text": [
      "The number of slected features after step three is: 150\n"
     ]
    },
    {
     "data": {
      "text/html": [
       "<div>\n",
       "<style scoped>\n",
       "    .dataframe tbody tr th:only-of-type {\n",
       "        vertical-align: middle;\n",
       "    }\n",
       "\n",
       "    .dataframe tbody tr th {\n",
       "        vertical-align: top;\n",
       "    }\n",
       "\n",
       "    .dataframe thead th {\n",
       "        text-align: right;\n",
       "    }\n",
       "</style>\n",
       "<table border=\"1\" class=\"dataframe\">\n",
       "  <thead>\n",
       "    <tr style=\"text-align: right;\">\n",
       "      <th></th>\n",
       "      <th>ActIntZooVisit</th>\n",
       "      <th>ActIntWineLovers</th>\n",
       "      <th>BuyerLuxuryStoreShop</th>\n",
       "      <th>LifestyleMedicalPolicy</th>\n",
       "      <th>ActIntAttendsEducationProg</th>\n",
       "      <th>ActIntMLBEnthusiast</th>\n",
       "      <th>ActIntNFLEnthusiast</th>\n",
       "      <th>ActIntNHLEnthusiast</th>\n",
       "      <th>ActIntPlayGolf</th>\n",
       "      <th>BuyerLuxuryHomeGoodShopper</th>\n",
       "      <th>...</th>\n",
       "      <th>CountyECHVIndex</th>\n",
       "      <th>AmericanOrigin</th>\n",
       "      <th>EuropeanOrigin</th>\n",
       "      <th>AsianOrigin</th>\n",
       "      <th>ForeignvsDomestic</th>\n",
       "      <th>MorevsLessExpensive</th>\n",
       "      <th>LuxuryvsMidPriced</th>\n",
       "      <th>NewvsUsed</th>\n",
       "      <th>TimeZone</th>\n",
       "      <th>RuralUrbanCountySizeCode_1</th>\n",
       "    </tr>\n",
       "  </thead>\n",
       "  <tbody>\n",
       "    <tr>\n",
       "      <th>0</th>\n",
       "      <td>0.603799</td>\n",
       "      <td>1.669904</td>\n",
       "      <td>0.516278</td>\n",
       "      <td>-0.029728</td>\n",
       "      <td>-1.539914</td>\n",
       "      <td>-0.151939</td>\n",
       "      <td>-1.013507</td>\n",
       "      <td>0.828230</td>\n",
       "      <td>0.237859</td>\n",
       "      <td>0.810490</td>\n",
       "      <td>...</td>\n",
       "      <td>0.368482</td>\n",
       "      <td>0.237546</td>\n",
       "      <td>0.749018</td>\n",
       "      <td>-0.614130</td>\n",
       "      <td>-0.536958</td>\n",
       "      <td>-0.496667</td>\n",
       "      <td>1.814455</td>\n",
       "      <td>0.247622</td>\n",
       "      <td>-0.416040</td>\n",
       "      <td>1.0</td>\n",
       "    </tr>\n",
       "    <tr>\n",
       "      <th>1</th>\n",
       "      <td>0.875516</td>\n",
       "      <td>0.285593</td>\n",
       "      <td>1.480922</td>\n",
       "      <td>-0.902537</td>\n",
       "      <td>0.984746</td>\n",
       "      <td>-1.843955</td>\n",
       "      <td>-0.223849</td>\n",
       "      <td>-0.894549</td>\n",
       "      <td>-0.485988</td>\n",
       "      <td>-0.641814</td>\n",
       "      <td>...</td>\n",
       "      <td>-0.900658</td>\n",
       "      <td>-0.266524</td>\n",
       "      <td>-0.247884</td>\n",
       "      <td>0.438107</td>\n",
       "      <td>0.606949</td>\n",
       "      <td>-0.606679</td>\n",
       "      <td>-0.455591</td>\n",
       "      <td>-1.526309</td>\n",
       "      <td>-0.872958</td>\n",
       "      <td>1.0</td>\n",
       "    </tr>\n",
       "  </tbody>\n",
       "</table>\n",
       "<p>2 rows × 150 columns</p>\n",
       "</div>"
      ],
      "text/plain": [
       "   ActIntZooVisit  ActIntWineLovers  BuyerLuxuryStoreShop  \\\n",
       "0        0.603799          1.669904              0.516278   \n",
       "1        0.875516          0.285593              1.480922   \n",
       "\n",
       "   LifestyleMedicalPolicy  ActIntAttendsEducationProg  ActIntMLBEnthusiast  \\\n",
       "0               -0.029728                   -1.539914            -0.151939   \n",
       "1               -0.902537                    0.984746            -1.843955   \n",
       "\n",
       "   ActIntNFLEnthusiast  ActIntNHLEnthusiast  ActIntPlayGolf  \\\n",
       "0            -1.013507             0.828230        0.237859   \n",
       "1            -0.223849            -0.894549       -0.485988   \n",
       "\n",
       "   BuyerLuxuryHomeGoodShopper  ...  CountyECHVIndex  AmericanOrigin  \\\n",
       "0                    0.810490  ...         0.368482        0.237546   \n",
       "1                   -0.641814  ...        -0.900658       -0.266524   \n",
       "\n",
       "   EuropeanOrigin  AsianOrigin  ForeignvsDomestic  MorevsLessExpensive  \\\n",
       "0        0.749018    -0.614130          -0.536958            -0.496667   \n",
       "1       -0.247884     0.438107           0.606949            -0.606679   \n",
       "\n",
       "   LuxuryvsMidPriced  NewvsUsed  TimeZone  RuralUrbanCountySizeCode_1  \n",
       "0           1.814455   0.247622 -0.416040                         1.0  \n",
       "1          -0.455591  -1.526309 -0.872958                         1.0  \n",
       "\n",
       "[2 rows x 150 columns]"
      ]
     },
     "execution_count": 21,
     "metadata": {},
     "output_type": "execute_result"
    }
   ],
   "source": [
    "selected_KB = SelectKBest(f_classif, k= 150)\n",
    "selected_data_KB= selected_KB.fit(X_train[selected_feat_RF], y_train)\n",
    "\n",
    "selected_feat_KB = X_train[selected_feat_RF].columns[(selected_KB.get_support())]\n",
    "\n",
    "selected_data_KB=pd.DataFrame(selected_data_RF[selected_feat_KB])\n",
    "selected_data_KB.columns=selected_feat_KB\n",
    "\n",
    "print(\"The number of slected features after step three is:\", selected_data_KB.shape[1])\n",
    "selected_data_KB.head(2)"
   ]
  },
  {
   "cell_type": "markdown",
   "metadata": {},
   "source": [
    "#### Checking the train data for number of samples in each class"
   ]
  },
  {
   "cell_type": "code",
   "execution_count": 22,
   "metadata": {
    "scrolled": true
   },
   "outputs": [
    {
     "name": "stdout",
     "output_type": "stream",
     "text": [
      "Flag\n",
      "0       24811\n",
      "1        2844\n",
      "dtype: int64\n"
     ]
    }
   ],
   "source": [
    "print(y_train.value_counts())"
   ]
  },
  {
   "cell_type": "code",
   "execution_count": 23,
   "metadata": {},
   "outputs": [],
   "source": [
    "##### Resampling the data using RandomOverSampler method"
   ]
  },
  {
   "cell_type": "code",
   "execution_count": 24,
   "metadata": {},
   "outputs": [
    {
     "data": {
      "text/plain": [
       "Counter({1: 24811, 0: 24811})"
      ]
     },
     "execution_count": 24,
     "metadata": {},
     "output_type": "execute_result"
    }
   ],
   "source": [
    "oversample = RandomOverSampler(sampling_strategy='minority')\n",
    "X_resampled, y_resampled = oversample.fit_resample(selected_data_KB, y_train)\n",
    "\n",
    "Counter(y_resampled)"
   ]
  },
  {
   "cell_type": "markdown",
   "metadata": {},
   "source": [
    "### Resampled Models\n",
    "**Examining the model with different number of Nodes and Patience argument**"
   ]
  },
  {
   "cell_type": "code",
   "execution_count": 25,
   "metadata": {},
   "outputs": [
    {
     "name": "stdout",
     "output_type": "stream",
     "text": [
      "Restoring model weights from the end of the best epoch\n",
      "Epoch 00092: early stopping\n",
      "11853/11853 [==============================] - 0s 9us/step\n",
      "\n",
      " Accuracy of the model is: 0.8205517530441284 \n",
      "\n",
      "Precision of the model is: 0.2365396249243799 \n",
      "\n",
      "Recall of the model is: 0.31130573248407645 \n",
      "\n",
      "Confusion Matrix of the model is:  \n",
      " [[9335 1262]\n",
      " [ 865  391]] \n",
      "\n"
     ]
    },
    {
     "data": {
      "image/png": "[encoded data removed]",
      "text/plain": [
       "<Figure size 432x288 with 1 Axes>"
      ]
     },
     "metadata": {
      "needs_background": "light"
     },
     "output_type": "display_data"
    }
   ],
   "source": [
    "resampled_model=seq_model(X_resampled,X_resampled.shape[1],y_resampled, X_test[selected_feat_KB],y_test,256, 256, 30)"
   ]
  },
  {
   "cell_type": "code",
   "execution_count": 26,
   "metadata": {
    "scrolled": true
   },
   "outputs": [
    {
     "name": "stdout",
     "output_type": "stream",
     "text": [
      "11853/11853 [==============================] - 0s 9us/step\n",
      "\n",
      " Accuracy of the model is: 0.8302539587020874 \n",
      "\n",
      "Precision of the model is: 0.23786407766990292 \n",
      "\n",
      "Recall of the model is: 0.2730891719745223 \n",
      "\n",
      "Confusion Matrix of the model is:  \n",
      " [[9498 1099]\n",
      " [ 913  343]] \n",
      "\n"
     ]
    },
    {
     "data": {
      "image/png": "[encoded data removed]",
      "text/plain": [
       "<Figure size 432x288 with 1 Axes>"
      ]
     },
     "metadata": {
      "needs_background": "light"
     },
     "output_type": "display_data"
    }
   ],
   "source": [
    "resampled_model=seq_model(X_resampled,X_resampled.shape[1],y_resampled, X_test[selected_feat_KB],y_test,256, 256, 20)"
   ]
  },
  {
   "cell_type": "code",
   "execution_count": 27,
   "metadata": {
    "scrolled": true
   },
   "outputs": [
    {
     "name": "stdout",
     "output_type": "stream",
     "text": [
      "Restoring model weights from the end of the best epoch\n",
      "Epoch 00043: early stopping\n",
      "11853/11853 [==============================] - 0s 9us/step\n",
      "\n",
      " Accuracy of the model is: 0.8054500818252563 \n",
      "\n",
      "Precision of the model is: 0.2248427672955975 \n",
      "\n",
      "Recall of the model is: 0.34156050955414013 \n",
      "\n",
      "Confusion Matrix of the model is:  \n",
      " [[9118 1479]\n",
      " [ 827  429]] \n",
      "\n"
     ]
    },
    {
     "data": {
      "image/png": "[encoded data removed]",
      "text/plain": [
       "<Figure size 432x288 with 1 Axes>"
      ]
     },
     "metadata": {
      "needs_background": "light"
     },
     "output_type": "display_data"
    }
   ],
   "source": [
    "resampled_model=seq_model(X_resampled,X_resampled.shape[1],y_resampled, X_test[selected_feat_KB],y_test,256, 256, 10)"
   ]
  },
  {
   "cell_type": "code",
   "execution_count": 28,
   "metadata": {},
   "outputs": [
    {
     "name": "stdout",
     "output_type": "stream",
     "text": [
      "11853/11853 [==============================] - 0s 21us/step\n",
      "\n",
      " Accuracy of the model is: 0.8287353515625 \n",
      "\n",
      "Precision of the model is: 0.2388663967611336 \n",
      "\n",
      "Recall of the model is: 0.2818471337579618 \n",
      "\n",
      "Confusion Matrix of the model is:  \n",
      " [[9469 1128]\n",
      " [ 902  354]] \n",
      "\n"
     ]
    },
    {
     "data": {
      "image/png": "[encoded data removed]",
      "text/plain": [
       "<Figure size 432x288 with 1 Axes>"
      ]
     },
     "metadata": {
      "needs_background": "light"
     },
     "output_type": "display_data"
    }
   ],
   "source": [
    "resampled_model=seq_model(X_resampled,X_resampled.shape[1],y_resampled, X_test[selected_feat_KB],y_test,512, 512,30)"
   ]
  },
  {
   "cell_type": "code",
   "execution_count": 29,
   "metadata": {},
   "outputs": [
    {
     "name": "stdout",
     "output_type": "stream",
     "text": [
      "Restoring model weights from the end of the best epoch\n",
      "Epoch 00051: early stopping\n",
      "11853/11853 [==============================] - 0s 25us/step\n",
      "\n",
      " Accuracy of the model is: 0.7910233736038208 \n",
      "\n",
      "Precision of the model is: 0.2148528724894909 \n",
      "\n",
      "Recall of the model is: 0.3662420382165605 \n",
      "\n",
      "Confusion Matrix of the model is:  \n",
      " [[8916 1681]\n",
      " [ 796  460]] \n",
      "\n"
     ]
    },
    {
     "data": {
      "image/png": "[encoded data removed]",
      "text/plain": [
       "<Figure size 432x288 with 1 Axes>"
      ]
     },
     "metadata": {
      "needs_background": "light"
     },
     "output_type": "display_data"
    }
   ],
   "source": [
    "resampled_model=seq_model(X_resampled,X_resampled.shape[1],y_resampled, X_test[selected_feat_KB],y_test,512, 512,20)"
   ]
  },
  {
   "cell_type": "code",
   "execution_count": 30,
   "metadata": {},
   "outputs": [
    {
     "name": "stdout",
     "output_type": "stream",
     "text": [
      "Restoring model weights from the end of the best epoch\n",
      "Epoch 00016: early stopping\n",
      "11853/11853 [==============================] - 0s 19us/step\n",
      "\n",
      " Accuracy of the model is: 0.6725723743438721 \n",
      "\n",
      "Precision of the model is: 0.1854780733285406 \n",
      "\n",
      "Recall of the model is: 0.6162420382165605 \n",
      "\n",
      "Confusion Matrix of the model is:  \n",
      " [[7198 3399]\n",
      " [ 482  774]] \n",
      "\n"
     ]
    },
    {
     "data": {
      "image/png": "[encoded data removed]",
      "text/plain": [
       "<Figure size 432x288 with 1 Axes>"
      ]
     },
     "metadata": {
      "needs_background": "light"
     },
     "output_type": "display_data"
    }
   ],
   "source": [
    "resampled_model=seq_model(X_resampled,X_resampled.shape[1],y_resampled, X_test[selected_feat_KB],y_test,512, 256,10)"
   ]
  },
  {
   "cell_type": "code",
   "execution_count": 31,
   "metadata": {},
   "outputs": [
    {
     "name": "stdout",
     "output_type": "stream",
     "text": [
      "Restoring model weights from the end of the best epoch\n",
      "Epoch 00044: early stopping\n",
      "11853/11853 [==============================] - 0s 16us/step\n",
      "\n",
      " Accuracy of the model is: 0.7979414463043213 \n",
      "\n",
      "Precision of the model is: 0.2273815222594543 \n",
      "\n",
      "Recall of the model is: 0.3781847133757962 \n",
      "\n",
      "Confusion Matrix of the model is:  \n",
      " [[8983 1614]\n",
      " [ 781  475]] \n",
      "\n"
     ]
    },
    {
     "data": {
      "image/png": "[encoded data removed]",
      "text/plain": [
       "<Figure size 432x288 with 1 Axes>"
      ]
     },
     "metadata": {
      "needs_background": "light"
     },
     "output_type": "display_data"
    }
   ],
   "source": [
    "resampled_model=seq_model(X_resampled,X_resampled.shape[1],y_resampled, X_test[selected_feat_KB],y_test,512, 256,20)"
   ]
  },
  {
   "cell_type": "code",
   "execution_count": 32,
   "metadata": {},
   "outputs": [
    {
     "name": "stdout",
     "output_type": "stream",
     "text": [
      "11853/11853 [==============================] - 0s 18us/step\n",
      "\n",
      " Accuracy of the model is: 0.8161646723747253 \n",
      "\n",
      "Precision of the model is: 0.22708456534594915 \n",
      "\n",
      "Recall of the model is: 0.3057324840764331 \n",
      "\n",
      "Confusion Matrix of the model is:  \n",
      " [[9290 1307]\n",
      " [ 872  384]] \n",
      "\n"
     ]
    },
    {
     "data": {
      "image/png": "[encoded data removed]",
      "text/plain": [
       "<Figure size 432x288 with 1 Axes>"
      ]
     },
     "metadata": {
      "needs_background": "light"
     },
     "output_type": "display_data"
    }
   ],
   "source": [
    "resampled_model=seq_model(X_resampled,X_resampled.shape[1],y_resampled, X_test[selected_feat_KB],y_test,512, 256,30)"
   ]
  },
  {
   "cell_type": "markdown",
   "metadata": {},
   "source": [
    "### Results:"
   ]
  },
  {
   "cell_type": "markdown",
   "metadata": {},
   "source": [
    "- Model is built with different hyperparameters.\n",
    "- Recall is the desired measure of model performance in this case. \n",
    "- Less number of False Negatives is required as the instituition does not want desired candidate to be classified as undesired. \n",
    "- The highest recall obtained is 0.61 with an accuracy of 0.67. \n",
    "- Although, higher accuracy scores are recorded, they do not help with solving the problem at hand.\n",
    "- Other model building techniques or algorithms can be tried to improve the performance of the model."
   ]
  },
  {
   "cell_type": "markdown",
   "metadata": {},
   "source": [
    "### References:\n",
    "\n",
    "https://machinelearningmastery.com/tutorial-first-neural-network-python-keras/                                                 \n",
    "https://machinelearningmastery.com/how-to-configure-the-number-of-layers-and-nodes-in-a-neural-network/                         \n",
    "https://keras.io/guides/sequential_model/\n",
    "https://scikit-learn.org/stable/modules/generated/sklearn.feature_selection.SelectFromModel.html                               \n",
    "https://scikit-learn.org/stable/modules/generated/sklearn.feature_selection.SelectKBest.html                                   \n",
    "https://www.displayr.com/what-is-a-roc-curve-how-to-interpret-it/                                                               \n",
    "https://stackoverflow.com/questions/36950394/how-to-decide-the-size-of-layers-in-keras-dense-method"
   ]
  },
  {
   "cell_type": "code",
   "execution_count": null,
   "metadata": {},
   "outputs": [],
   "source": []
  }
 ],
 "metadata": {
  "kernelspec": {
   "display_name": "Python 3",
   "language": "python",
   "name": "python3"
  },
  "language_info": {
   "codemirror_mode": {
    "name": "ipython",
    "version": 3
   },
   "file_extension": ".py",
   "mimetype": "text/x-python",
   "name": "python",
   "nbconvert_exporter": "python",
   "pygments_lexer": "ipython3",
   "version": "3.7.4"
  }
 },
 "nbformat": 4,
 "nbformat_minor": 2
}
